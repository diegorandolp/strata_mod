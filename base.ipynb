{
 "cells": [
  {
   "cell_type": "code",
   "id": "initial_id",
   "metadata": {
    "collapsed": true,
    "ExecuteTime": {
     "end_time": "2025-03-22T04:51:37.884336Z",
     "start_time": "2025-03-22T04:51:37.878728Z"
    }
   },
   "source": [
    "x = 2\n",
    "y = '2'\n",
    "print(type(x), type(y))"
   ],
   "outputs": [
    {
     "name": "stdout",
     "output_type": "stream",
     "text": [
      "<class 'int'> <class 'int'>\n"
     ]
    }
   ],
   "execution_count": 1
  },
  {
   "metadata": {
    "ExecuteTime": {
     "end_time": "2025-03-22T04:53:15.848355Z",
     "start_time": "2025-03-22T04:53:15.844603Z"
    }
   },
   "cell_type": "code",
   "source": [
    "x, y, z = 1, '2', 3.0\n",
    "a = b = c = 'hello'\n",
    "\n",
    "print(a, b, c)"
   ],
   "id": "9057cbcb89866917",
   "outputs": [
    {
     "name": "stdout",
     "output_type": "stream",
     "text": [
      "hello hello hello\n"
     ]
    }
   ],
   "execution_count": 4
  },
  {
   "metadata": {
    "ExecuteTime": {
     "end_time": "2025-03-22T04:54:38.799342Z",
     "start_time": "2025-03-22T04:54:38.795197Z"
    }
   },
   "cell_type": "code",
   "source": [
    "ice_cream = ['vanilla', 'choc', 'strawbeery']\n",
    "x, y, z = ice_cream\n",
    "\n",
    "print(x, y, z)"
   ],
   "id": "76bb6d4ef7310a6a",
   "outputs": [
    {
     "name": "stdout",
     "output_type": "stream",
     "text": [
      "vanilla choc strawbeery\n"
     ]
    }
   ],
   "execution_count": 5
  },
  {
   "metadata": {},
   "cell_type": "code",
   "outputs": [],
   "execution_count": null,
   "source": [
    "x = 'choc' + 'late'\n",
    "print(x)"
   ],
   "id": "e626a98714345dfe"
  },
  {
   "metadata": {},
   "cell_type": "code",
   "outputs": [],
   "execution_count": null,
   "source": [
    "# Single line comment\n",
    "\n",
    "\"\"\"\n",
    "Multi line\n",
    "comment\n",
    "\"\"\"\n",
    "\n",
    "multiline = \"\"\"\n",
    "    Multi\n",
    "    line\n",
    "    string\n",
    "\"\"\""
   ],
   "id": "ab4900f19d5db96e"
  },
  {
   "metadata": {},
   "cell_type": "code",
   "outputs": [],
   "execution_count": null,
   "source": [
    "list1 = [True, '2', 3.0, [4, 5, 6]]\n",
    "list1.append(7)\n",
    "print(list1)\n",
    "print(list1[2])"
   ],
   "id": "fc24416ff4714637"
  },
  {
   "metadata": {},
   "cell_type": "code",
   "outputs": [],
   "execution_count": null,
   "source": [
    "tuple1 = (1, 2, 3) # immutable\n",
    "print(tuple1)"
   ],
   "id": "950793951201b9f3"
  },
  {
   "metadata": {
    "ExecuteTime": {
     "end_time": "2025-03-22T05:14:40.261954Z",
     "start_time": "2025-03-22T05:14:40.257442Z"
    }
   },
   "cell_type": "code",
   "source": [
    "set1 = {1, 1, 1, 1, 4}\n",
    "print(set1)"
   ],
   "id": "1ee75c3ab2b01e27",
   "outputs": [
    {
     "name": "stdout",
     "output_type": "stream",
     "text": [
      "{1, 4}\n"
     ]
    }
   ],
   "execution_count": 14
  },
  {
   "metadata": {
    "ExecuteTime": {
     "end_time": "2025-03-22T05:14:43.095590Z",
     "start_time": "2025-03-22T05:14:43.090898Z"
    }
   },
   "cell_type": "code",
   "source": [
    "set2 = {1, 2, 3}\n",
    "print(set1 | set2) # union\n",
    "print(set1 & set2)  # intersection\n",
    "print(set1 ^ set2)  # symmetric difference\n",
    "print(set2 - set1)  # difference"
   ],
   "id": "bf6b17109452d874",
   "outputs": [
    {
     "name": "stdout",
     "output_type": "stream",
     "text": [
      "{1, 2, 3, 4}\n",
      "{1}\n",
      "{2, 3, 4}\n",
      "{2, 3}\n"
     ]
    }
   ],
   "execution_count": 15
  },
  {
   "metadata": {
    "ExecuteTime": {
     "end_time": "2025-03-22T05:18:31.178656Z",
     "start_time": "2025-03-22T05:18:31.174036Z"
    }
   },
   "cell_type": "code",
   "source": [
    "dictionary1 = {'a': 1, 'b': 2, 'c': 3}\n",
    "print(type(dictionary1))\n",
    "print(dictionary1.values())\n",
    "print(dictionary1.keys())\n",
    "print(dictionary1.items())"
   ],
   "id": "3d932be2aedecabf",
   "outputs": [
    {
     "name": "stdout",
     "output_type": "stream",
     "text": [
      "<class 'dict'>\n",
      "dict_values([1, 2, 3])\n",
      "dict_keys(['a', 'b', 'c'])\n",
      "dict_items([('a', 1), ('b', 2), ('c', 3)])\n"
     ]
    }
   ],
   "execution_count": 21
  },
  {
   "metadata": {
    "ExecuteTime": {
     "end_time": "2025-03-22T05:18:32.266479Z",
     "start_time": "2025-03-22T05:18:32.263665Z"
    }
   },
   "cell_type": "code",
   "source": [
    "print(dictionary1['a'])\n",
    "dictionary1['a'] = 4\n",
    "print(dictionary1['a'])"
   ],
   "id": "c9ae29d8a94d8565",
   "outputs": [
    {
     "name": "stdout",
     "output_type": "stream",
     "text": [
      "1\n",
      "4\n"
     ]
    }
   ],
   "execution_count": 22
  },
  {
   "metadata": {
    "ExecuteTime": {
     "end_time": "2025-03-22T05:20:20.213346Z",
     "start_time": "2025-03-22T05:20:20.209129Z"
    }
   },
   "cell_type": "code",
   "source": [
    "dictionary1.update({'d': 6}) # add new key-value pair\n",
    "print(dictionary1)"
   ],
   "id": "aa2f27d32353bbc7",
   "outputs": [
    {
     "name": "stdout",
     "output_type": "stream",
     "text": [
      "{'a': 4, 'b': 2, 'c': 3, 'd': 6}\n"
     ]
    }
   ],
   "execution_count": 24
  },
  {
   "metadata": {},
   "cell_type": "code",
   "outputs": [],
   "execution_count": null,
   "source": [
    "ice_cream = 'i dont like ice cream'\n",
    "print('like' in ice_cream)\n",
    "\n",
    "numbers = [1, 2, 3]\n",
    "print(5 not in numbers)"
   ],
   "id": "f189d0386bb10030"
  },
  {
   "metadata": {
    "ExecuteTime": {
     "end_time": "2025-03-22T05:57:29.783372Z",
     "start_time": "2025-03-22T05:57:29.780941Z"
    }
   },
   "cell_type": "code",
   "source": [
    "def add(num1: int, num2: int) -> int:\n",
    "    \"\"\"Add two numbers together\"\"\"\n",
    "    return num1 + num2\n",
    "\n",
    "print(add(4, 3))\n"
   ],
   "id": "d5800e3da8a7d57c",
   "outputs": [
    {
     "name": "stdout",
     "output_type": "stream",
     "text": [
      "7\n"
     ]
    }
   ],
   "execution_count": 30
  },
  {
   "metadata": {
    "ExecuteTime": {
     "end_time": "2025-03-22T06:52:22.848248Z",
     "start_time": "2025-03-22T06:52:22.843601Z"
    }
   },
   "cell_type": "code",
   "source": [
    "def number_args(*nums: int) -> None:\n",
    "    \"\"\"Function with variable number of non-keyword arguments,\n",
    "    nums is type of tuple\"\"\"\n",
    "    for number in nums:\n",
    "        print(number)\n",
    "new_tuple = (1, 2, 3)\n",
    "number_args(*new_tuple)\n",
    "number_args(1, 2, 3)"
   ],
   "id": "d936682884d6a8df",
   "outputs": [
    {
     "name": "stdout",
     "output_type": "stream",
     "text": [
      "1\n",
      "2\n",
      "3\n",
      "1\n",
      "2\n",
      "3\n"
     ]
    }
   ],
   "execution_count": 38
  },
  {
   "metadata": {
    "ExecuteTime": {
     "end_time": "2025-03-22T06:52:42.612024Z",
     "start_time": "2025-03-22T06:52:42.606361Z"
    }
   },
   "cell_type": "code",
   "source": [
    "def number_kargs(**nums: int) -> None:\n",
    "    \"\"\"Function with variable number of keyword arguments,\n",
    "    nums is type of dictionary\"\"\"\n",
    "    for key, value in nums.items():\n",
    "        print(key, value)\n",
    "new_dict = {'a': 1, 'b': 2, 'c': 3}\n",
    "number_kargs(**new_dict)\n",
    "number_kargs(a=1, b=2, c=3)"
   ],
   "id": "e5c85733960d0de",
   "outputs": [
    {
     "name": "stdout",
     "output_type": "stream",
     "text": [
      "a 1\n",
      "b 2\n",
      "c 3\n",
      "a 1\n",
      "b 2\n",
      "c 3\n"
     ]
    }
   ],
   "execution_count": 39
  },
  {
   "metadata": {},
   "cell_type": "code",
   "outputs": [],
   "execution_count": null,
   "source": [
    "def f1() -> None:\n",
    "    \"\"\"Function with nested function\"\"\"\n",
    "    s = 'klok'\n",
    "    def f2() -> None:\n",
    "        print(s)\n",
    "    f2()\n",
    "\n",
    "f1()"
   ],
   "id": "a050d4778ff054ce"
  },
  {
   "metadata": {},
   "cell_type": "code",
   "outputs": [],
   "execution_count": null,
   "source": [
    "# Anonymous function\n",
    "\n",
    "cube_anon = lambda x: x**3\n",
    "\n",
    "print(cube_anon(3))"
   ],
   "id": "81951372fb886d7c"
  },
  {
   "metadata": {},
   "cell_type": "code",
   "outputs": [],
   "execution_count": null,
   "source": [
    "def newFun(x: int) -> None:\n",
    "    \"\"\"Parameter is passed by reference\"\"\"\n",
    "    x[0] = 20\n",
    "\n",
    "lst = [1, 2, 3]\n",
    "newFun(lst)\n",
    "print(lst)"
   ],
   "id": "e579f54a3aa93a56"
  },
  {
   "metadata": {
    "ExecuteTime": {
     "end_time": "2025-03-22T06:50:56.531187Z",
     "start_time": "2025-03-22T06:50:56.526033Z"
    }
   },
   "cell_type": "code",
   "source": [
    "def newFun2(x: int) -> None:\n",
    "    \"\"\"Parameter is passed by value\"\"\"\n",
    "    x = 20\n",
    "\n",
    "x = 10\n",
    "newFun2(x)\n",
    "print(x)"
   ],
   "id": "fcaafc4876cc30c2",
   "outputs": [
    {
     "name": "stdout",
     "output_type": "stream",
     "text": [
      "10\n"
     ]
    }
   ],
   "execution_count": 36
  }
 ],
 "metadata": {
  "kernelspec": {
   "display_name": "Python 3",
   "language": "python",
   "name": "python3"
  },
  "language_info": {
   "codemirror_mode": {
    "name": "ipython",
    "version": 2
   },
   "file_extension": ".py",
   "mimetype": "text/x-python",
   "name": "python",
   "nbconvert_exporter": "python",
   "pygments_lexer": "ipython2",
   "version": "2.7.6"
  }
 },
 "nbformat": 4,
 "nbformat_minor": 5
}
