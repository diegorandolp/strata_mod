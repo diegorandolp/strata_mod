{
 "cells": [
  {
   "cell_type": "code",
   "id": "initial_id",
   "metadata": {
    "collapsed": true,
    "ExecuteTime": {
     "end_time": "2025-03-22T04:51:37.884336Z",
     "start_time": "2025-03-22T04:51:37.878728Z"
    }
   },
   "source": [
    "x = 2\n",
    "y = '2'\n",
    "print(type(x), type(y))"
   ],
   "outputs": [
    {
     "name": "stdout",
     "output_type": "stream",
     "text": [
      "<class 'int'> <class 'int'>\n"
     ]
    }
   ],
   "execution_count": 1
  },
  {
   "metadata": {
    "ExecuteTime": {
     "end_time": "2025-03-22T04:53:15.848355Z",
     "start_time": "2025-03-22T04:53:15.844603Z"
    }
   },
   "cell_type": "code",
   "source": [
    "x, y, z = 1, '2', 3.0\n",
    "a = b = c = 'hello'\n",
    "\n",
    "print(a, b, c)"
   ],
   "id": "9057cbcb89866917",
   "outputs": [
    {
     "name": "stdout",
     "output_type": "stream",
     "text": [
      "hello hello hello\n"
     ]
    }
   ],
   "execution_count": 4
  },
  {
   "metadata": {
    "ExecuteTime": {
     "end_time": "2025-03-22T04:54:38.799342Z",
     "start_time": "2025-03-22T04:54:38.795197Z"
    }
   },
   "cell_type": "code",
   "source": [
    "ice_cream = ['vanilla', 'choc', 'strawbeery']\n",
    "x, y, z = ice_cream\n",
    "\n",
    "print(x, y, z)"
   ],
   "id": "76bb6d4ef7310a6a",
   "outputs": [
    {
     "name": "stdout",
     "output_type": "stream",
     "text": [
      "vanilla choc strawbeery\n"
     ]
    }
   ],
   "execution_count": 5
  },
  {
   "metadata": {
    "ExecuteTime": {
     "end_time": "2025-03-22T04:56:49.305095Z",
     "start_time": "2025-03-22T04:56:49.302054Z"
    }
   },
   "cell_type": "code",
   "source": [
    "x = 'choc' + 'late'\n",
    "print(x)"
   ],
   "id": "ebd3f1b418fcc30c",
   "outputs": [
    {
     "name": "stdout",
     "output_type": "stream",
     "text": [
      "choclate\n"
     ]
    }
   ],
   "execution_count": 6
  }
 ],
 "metadata": {
  "kernelspec": {
   "display_name": "Python 3",
   "language": "python",
   "name": "python3"
  },
  "language_info": {
   "codemirror_mode": {
    "name": "ipython",
    "version": 2
   },
   "file_extension": ".py",
   "mimetype": "text/x-python",
   "name": "python",
   "nbconvert_exporter": "python",
   "pygments_lexer": "ipython2",
   "version": "2.7.6"
  }
 },
 "nbformat": 4,
 "nbformat_minor": 5
}
